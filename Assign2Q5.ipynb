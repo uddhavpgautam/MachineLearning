{
  "cells": [
    {
      "cell_type": "code",
      "metadata": {},
      "source": [
        "import math\n",
        "class Cylinder:\n",
        "    height, radius = 0, 0\n",
        "    def __init__(self, height=1, radius=1):\n",
        "        (self.height, self.radius) = (height, radius)\n",
        "    def volume(self):\n",
        "        volume = math.pi * pow(self.radius, 2) * self.height\n",
        "        print(round(volume,2))\n",
        "    def surface_area(self):\n",
        "        area = 2*math.pi*self.radius*(self.radius+self.height)\n",
        "        print(round(area,2))\n",
        "C = Cylinder(2,3)\n",
        "C.volume()\n",
        "C.surface_area()\n"
      ],
      "outputs": [],
      "execution_count": null
    }
  ],
  "metadata": {
    "anaconda-cloud": {},
    "kernelspec": {
      "display_name": "Python 3",
      "language": "python",
      "name": "python3"
    },
    "language_info": {
      "codemirror_mode": {
        "name": "ipython",
        "version": 3
      },
      "file_extension": ".py",
      "mimetype": "text/x-python",
      "name": "python",
      "nbconvert_exporter": "python",
      "pygments_lexer": "ipython3",
      "version": "3.6.1"
    }
  },
  "nbformat": 4,
  "nbformat_minor": 1
}